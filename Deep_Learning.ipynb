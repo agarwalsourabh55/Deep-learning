{
  "nbformat": 4,
  "nbformat_minor": 0,
  "metadata": {
    "colab": {
      "name": "Deep Learning.ipynb",
      "provenance": [],
      "authorship_tag": "ABX9TyNvDYs+XdEBj5+74G+1FFxi",
      "include_colab_link": true
    },
    "kernelspec": {
      "name": "python3",
      "display_name": "Python 3"
    },
    "language_info": {
      "name": "python"
    }
  },
  "cells": [
    {
      "cell_type": "markdown",
      "metadata": {
        "id": "view-in-github",
        "colab_type": "text"
      },
      "source": [
        "<a href=\"https://colab.research.google.com/github/agarwalsourabh55/Deep-learning/blob/deep_learning_dev/Deep_Learning.ipynb\" target=\"_parent\"><img src=\"https://colab.research.google.com/assets/colab-badge.svg\" alt=\"Open In Colab\"/></a>"
      ]
    },
    {
      "cell_type": "code",
      "execution_count": 3,
      "metadata": {
        "id": "VlIkxaNqNpFm",
        "colab": {
          "base_uri": "https://localhost:8080/"
        },
        "outputId": "5cf86420-9c69-4bfa-bc0d-28c3f107f1a1"
      },
      "outputs": [
        {
          "output_type": "stream",
          "name": "stdout",
          "text": [
            "tensor([7.2105e-37, 0.0000e+00, 4.4842e-44])\n"
          ]
        }
      ],
      "source": [
        "import torch\n",
        "\n",
        "## Create the Empty Tensor\n",
        "x= torch.empty(3)\n",
        "print(x)\n",
        "x= torch.empty(2,3)\n",
        "x= torch.empty(2,2,3)"
      ]
    },
    {
      "cell_type": "code",
      "source": [
        "## Creating torch with random values "
      ],
      "metadata": {
        "id": "U_gHJK42Oinh"
      },
      "execution_count": 2,
      "outputs": []
    },
    {
      "cell_type": "code",
      "source": [
        "torch.randn(2,3)"
      ],
      "metadata": {
        "colab": {
          "base_uri": "https://localhost:8080/"
        },
        "id": "4w_vaoJtOu_D",
        "outputId": "6fae67dc-953f-456a-ff26-6e83fe950399"
      },
      "execution_count": 4,
      "outputs": [
        {
          "output_type": "execute_result",
          "data": {
            "text/plain": [
              "tensor([[ 0.7233,  0.0378, -0.9199],\n",
              "        [ 1.4418, -1.2958, -0.3074]])"
            ]
          },
          "metadata": {},
          "execution_count": 4
        }
      ]
    },
    {
      "cell_type": "code",
      "source": [
        "torch.ones(2,2)"
      ],
      "metadata": {
        "colab": {
          "base_uri": "https://localhost:8080/"
        },
        "id": "aXlUmtq6O3c5",
        "outputId": "10d19825-34ca-4305-cccb-4037ef40b562"
      },
      "execution_count": 5,
      "outputs": [
        {
          "output_type": "execute_result",
          "data": {
            "text/plain": [
              "tensor([[1., 1.],\n",
              "        [1., 1.]])"
            ]
          },
          "metadata": {},
          "execution_count": 5
        }
      ]
    },
    {
      "cell_type": "code",
      "source": [
        "## Giving Specific Data type\n",
        "x.dtype  ## default float.32\n",
        "x= torch.ones(2,2,dtype=  torch.double)\n",
        "print(x.size())"
      ],
      "metadata": {
        "colab": {
          "base_uri": "https://localhost:8080/"
        },
        "id": "iNqvWFXiO5_H",
        "outputId": "199c9cd1-8326-42d6-cfa5-6a5502f20307"
      },
      "execution_count": 7,
      "outputs": [
        {
          "output_type": "stream",
          "name": "stdout",
          "text": [
            "torch.Size([2, 2])\n"
          ]
        }
      ]
    },
    {
      "cell_type": "code",
      "source": [
        "x= torch.tensor([2.5,0.1])\n",
        "print(x)"
      ],
      "metadata": {
        "colab": {
          "base_uri": "https://localhost:8080/"
        },
        "id": "ZamghMHeO9Ii",
        "outputId": "cbd7f5cc-5b6e-45b8-8661-0f754ab4f393"
      },
      "execution_count": 8,
      "outputs": [
        {
          "output_type": "stream",
          "name": "stdout",
          "text": [
            "tensor([2.5000, 0.1000])\n"
          ]
        }
      ]
    },
    {
      "cell_type": "code",
      "source": [
        "x= torch.randn(2,2)\n",
        "y= torch.randn(2,2)\n",
        "print(x)\n",
        "print(y)"
      ],
      "metadata": {
        "colab": {
          "base_uri": "https://localhost:8080/"
        },
        "id": "jEULN_BaPQPA",
        "outputId": "b6f2810f-d4fb-4758-f8cd-8a46d3e2ff1e"
      },
      "execution_count": 9,
      "outputs": [
        {
          "output_type": "stream",
          "name": "stdout",
          "text": [
            "tensor([[-0.4172,  0.2090],\n",
            "        [ 0.5973, -0.6693]])\n",
            "tensor([[ 1.6284, -1.3117],\n",
            "        [ 0.0707, -0.1412]])\n"
          ]
        }
      ]
    },
    {
      "cell_type": "code",
      "source": [
        "## Addition\n",
        "z= x+y\n",
        "print(z) # Element wise addition"
      ],
      "metadata": {
        "colab": {
          "base_uri": "https://localhost:8080/"
        },
        "id": "Y-r89odRPYv4",
        "outputId": "96736abd-8944-41ec-9aa3-303c98c55132"
      },
      "execution_count": 11,
      "outputs": [
        {
          "output_type": "stream",
          "name": "stdout",
          "text": [
            "tensor([[ 1.2112, -1.1028],\n",
            "        [ 0.6680, -0.8105]])\n"
          ]
        }
      ]
    },
    {
      "cell_type": "code",
      "source": [
        "z= torch.add(x,y)\n",
        "print(z)"
      ],
      "metadata": {
        "colab": {
          "base_uri": "https://localhost:8080/"
        },
        "id": "b5uerI1iPbJp",
        "outputId": "3015327b-2cc2-4459-a910-719b21dc0203"
      },
      "execution_count": 12,
      "outputs": [
        {
          "output_type": "stream",
          "name": "stdout",
          "text": [
            "tensor([[ 1.2112, -1.1028],\n",
            "        [ 0.6680, -0.8105]])\n"
          ]
        }
      ]
    },
    {
      "cell_type": "code",
      "source": [
        "## inplace addition\n",
        "y.add_(x) ## will modify y\n",
        "\n",
        "## Every funciton that has _ aat the last will do the inplace operation"
      ],
      "metadata": {
        "colab": {
          "base_uri": "https://localhost:8080/"
        },
        "id": "QNIOv2RxPhj0",
        "outputId": "d64554c8-6688-434d-bf61-8d9a5f0ae0e1"
      },
      "execution_count": 14,
      "outputs": [
        {
          "output_type": "execute_result",
          "data": {
            "text/plain": [
              "tensor([[ 0.7940, -0.8938],\n",
              "        [ 1.2653, -1.4798]])"
            ]
          },
          "metadata": {},
          "execution_count": 14
        }
      ]
    },
    {
      "cell_type": "code",
      "source": [
        "## substaraction\n",
        "z= x-y\n",
        "z=torch.sub(x,y)\n"
      ],
      "metadata": {
        "id": "LaMV419kPmkl"
      },
      "execution_count": 15,
      "outputs": []
    },
    {
      "cell_type": "code",
      "source": [
        "## Multipliacatino\n",
        "y.mul_(x)"
      ],
      "metadata": {
        "colab": {
          "base_uri": "https://localhost:8080/"
        },
        "id": "jb9e-tx5PzIr",
        "outputId": "2387cfee-3bf6-4a31-d876-c6a990f2fd06"
      },
      "execution_count": 16,
      "outputs": [
        {
          "output_type": "execute_result",
          "data": {
            "text/plain": [
              "tensor([[-0.3312, -0.1868],\n",
              "        [ 0.7557,  0.9904]])"
            ]
          },
          "metadata": {},
          "execution_count": 16
        }
      ]
    },
    {
      "cell_type": "code",
      "source": [
        "## division \n",
        "torch.div(x,y)"
      ],
      "metadata": {
        "colab": {
          "base_uri": "https://localhost:8080/"
        },
        "id": "ks6SQbUxP2GP",
        "outputId": "0fd79724-4ddc-442f-dbdf-3bff91004f43"
      },
      "execution_count": 17,
      "outputs": [
        {
          "output_type": "execute_result",
          "data": {
            "text/plain": [
              "tensor([[ 1.2595, -1.1188],\n",
              "        [ 0.7904, -0.6758]])"
            ]
          },
          "metadata": {},
          "execution_count": 17
        }
      ]
    },
    {
      "cell_type": "code",
      "source": [
        "## slicing Operations\n",
        "\n",
        "x= torch.rand(5,3)\n",
        "print(x[:,0])\n",
        "print(x)"
      ],
      "metadata": {
        "colab": {
          "base_uri": "https://localhost:8080/"
        },
        "id": "pfy3ZBxzP6iS",
        "outputId": "654b2331-20ef-4839-a5aa-21464ee15205"
      },
      "execution_count": 19,
      "outputs": [
        {
          "output_type": "stream",
          "name": "stdout",
          "text": [
            "tensor([0.3283, 0.7036, 0.6271, 0.6988, 0.4320])\n",
            "tensor([[0.3283, 0.1578, 0.4797],\n",
            "        [0.7036, 0.8818, 0.5780],\n",
            "        [0.6271, 0.4285, 0.4365],\n",
            "        [0.6988, 0.3112, 0.2248],\n",
            "        [0.4320, 0.7449, 0.2854]])\n"
          ]
        }
      ]
    },
    {
      "cell_type": "code",
      "source": [
        "x[1,2]"
      ],
      "metadata": {
        "colab": {
          "base_uri": "https://localhost:8080/"
        },
        "id": "kfO_xn5XQDbj",
        "outputId": "0837aa5e-b910-4ab6-9a52-48079b851384"
      },
      "execution_count": 21,
      "outputs": [
        {
          "output_type": "execute_result",
          "data": {
            "text/plain": [
              "tensor(0.5780)"
            ]
          },
          "metadata": {},
          "execution_count": 21
        }
      ]
    },
    {
      "cell_type": "code",
      "source": [
        "## Willge tthe actual value\n",
        "x[1,2].item()"
      ],
      "metadata": {
        "colab": {
          "base_uri": "https://localhost:8080/"
        },
        "id": "dOiQCNvDQNBj",
        "outputId": "d82b89ec-b2d3-41a0-b0c0-dbb94ae51f7f"
      },
      "execution_count": 22,
      "outputs": [
        {
          "output_type": "execute_result",
          "data": {
            "text/plain": [
              "0.5779715180397034"
            ]
          },
          "metadata": {},
          "execution_count": 22
        }
      ]
    },
    {
      "cell_type": "code",
      "source": [
        "## reshaping operation\n",
        "x= torch.rand(4,4)\n",
        "print(x)\n",
        "y= x.view(16)\n",
        "print(y)"
      ],
      "metadata": {
        "colab": {
          "base_uri": "https://localhost:8080/"
        },
        "id": "pSo6RkpJQUP3",
        "outputId": "05c5c9bb-2e1b-49bb-dacd-c26d58e62122"
      },
      "execution_count": 24,
      "outputs": [
        {
          "output_type": "stream",
          "name": "stdout",
          "text": [
            "tensor([[0.2961, 0.9147, 0.7951, 0.4519],\n",
            "        [0.0882, 0.6399, 0.0094, 0.0505],\n",
            "        [0.4640, 0.1325, 0.9942, 0.0237],\n",
            "        [0.6641, 0.5004, 0.4337, 0.2985]])\n",
            "tensor([0.2961, 0.9147, 0.7951, 0.4519, 0.0882, 0.6399, 0.0094, 0.0505, 0.4640,\n",
            "        0.1325, 0.9942, 0.0237, 0.6641, 0.5004, 0.4337, 0.2985])\n"
          ]
        }
      ]
    },
    {
      "cell_type": "code",
      "source": [
        "y= x.view(-1,4)\n",
        "print(y.size())"
      ],
      "metadata": {
        "colab": {
          "base_uri": "https://localhost:8080/"
        },
        "id": "yzBKkJTAQezb",
        "outputId": "5d7c5766-92f0-41c7-fd6c-81b25152ae8d"
      },
      "execution_count": 27,
      "outputs": [
        {
          "output_type": "stream",
          "name": "stdout",
          "text": [
            "torch.Size([4, 4])\n"
          ]
        }
      ]
    },
    {
      "cell_type": "code",
      "source": [
        "import numpy as np\n",
        "\n",
        "#converting numpy to tensor\n",
        "a = torch.ones(5)\n",
        "print(a)\n",
        "b = a.numpy()\n",
        "print(type(b))"
      ],
      "metadata": {
        "colab": {
          "base_uri": "https://localhost:8080/"
        },
        "id": "SCApdPIlQuKc",
        "outputId": "602c1812-8fc4-4f7a-eebb-ed65f7e9ce75"
      },
      "execution_count": 28,
      "outputs": [
        {
          "output_type": "stream",
          "name": "stdout",
          "text": [
            "tensor([1., 1., 1., 1., 1.])\n",
            "<class 'numpy.ndarray'>\n"
          ]
        }
      ]
    },
    {
      "cell_type": "code",
      "source": [
        "a.add_(1)"
      ],
      "metadata": {
        "colab": {
          "base_uri": "https://localhost:8080/"
        },
        "id": "uGErVxkZQwwO",
        "outputId": "d7787413-1781-4cd2-cb2c-1b0476ba03a2"
      },
      "execution_count": 29,
      "outputs": [
        {
          "output_type": "execute_result",
          "data": {
            "text/plain": [
              "tensor([2., 2., 2., 2., 2.])"
            ]
          },
          "metadata": {},
          "execution_count": 29
        }
      ]
    },
    {
      "cell_type": "code",
      "source": [
        "## Also added +1 to the b also..because they point to the same memory location\n",
        "print(a)\n",
        "print(b)"
      ],
      "metadata": {
        "colab": {
          "base_uri": "https://localhost:8080/"
        },
        "id": "gjD1V4aqR5IS",
        "outputId": "a436b26b-83ac-4612-9492-4091d041e532"
      },
      "execution_count": 31,
      "outputs": [
        {
          "output_type": "stream",
          "name": "stdout",
          "text": [
            "tensor([2., 2., 2., 2., 2.])\n",
            "[2. 2. 2. 2. 2.]\n"
          ]
        }
      ]
    },
    {
      "cell_type": "code",
      "source": [
        "a= np.ones(5)\n",
        "print(a)"
      ],
      "metadata": {
        "colab": {
          "base_uri": "https://localhost:8080/"
        },
        "id": "gMTL5kLQR7pJ",
        "outputId": "67b76793-348f-4b40-ecc8-febd41996a0b"
      },
      "execution_count": 32,
      "outputs": [
        {
          "output_type": "stream",
          "name": "stdout",
          "text": [
            "[1. 1. 1. 1. 1.]\n"
          ]
        }
      ]
    },
    {
      "cell_type": "code",
      "source": [
        "b= torch.from_numpy(a)\n",
        "print(b)"
      ],
      "metadata": {
        "colab": {
          "base_uri": "https://localhost:8080/"
        },
        "id": "Eugmjo1QSEuf",
        "outputId": "4a94aa37-8695-4685-845c-eb61320494b0"
      },
      "execution_count": 33,
      "outputs": [
        {
          "output_type": "stream",
          "name": "stdout",
          "text": [
            "tensor([1., 1., 1., 1., 1.], dtype=torch.float64)\n"
          ]
        }
      ]
    },
    {
      "cell_type": "code",
      "source": [
        "a+=1"
      ],
      "metadata": {
        "id": "dBieziy7SJ5D"
      },
      "execution_count": 35,
      "outputs": []
    },
    {
      "cell_type": "code",
      "source": [
        "## This happen only when you have tensor on the GPU\n",
        "print(a)\n",
        "print(b)"
      ],
      "metadata": {
        "colab": {
          "base_uri": "https://localhost:8080/"
        },
        "id": "9bh6X80WSNZ0",
        "outputId": "22d39ebe-9311-4599-c7b4-4640fb71227d"
      },
      "execution_count": 37,
      "outputs": [
        {
          "output_type": "stream",
          "name": "stdout",
          "text": [
            "[2. 2. 2. 2. 2.]\n",
            "tensor([2., 2., 2., 2., 2.], dtype=torch.float64)\n"
          ]
        }
      ]
    },
    {
      "cell_type": "code",
      "source": [
        "## checking cuda availability\n",
        "if torch.cuda.is_available():\n",
        "  device = torch.device(\"cuda\")\n",
        "  x = torch.ones(5,device = device)\n",
        "  y = torch.ones(5)\n",
        "  y= y.to(device)\n",
        "\n",
        "  z= x+y\n",
        "  z.numpy()## will return error because numpy only handle CPU tensors not GPU\n",
        "  z = z.to(\"cpu\")\n",
        "else:\n",
        "  print(\"not available\")"
      ],
      "metadata": {
        "colab": {
          "base_uri": "https://localhost:8080/"
        },
        "id": "jCa2eHRASRAs",
        "outputId": "4a91bcb7-b587-4336-8731-1d3bad68ba13"
      },
      "execution_count": 40,
      "outputs": [
        {
          "output_type": "stream",
          "name": "stdout",
          "text": [
            "not available\n"
          ]
        }
      ]
    },
    {
      "cell_type": "code",
      "source": [
        "\n",
        "x = torch.ones(5,requires_grad = True)  ## tellthe pytroch that it will nees to calculate the gradients\n",
        "print(x)"
      ],
      "metadata": {
        "colab": {
          "base_uri": "https://localhost:8080/"
        },
        "id": "-tl_XkmaSszh",
        "outputId": "69792fa7-fdb6-49aa-892d-b08aab03fa00"
      },
      "execution_count": 42,
      "outputs": [
        {
          "output_type": "stream",
          "name": "stdout",
          "text": [
            "tensor([1., 1., 1., 1., 1.], requires_grad=True)\n"
          ]
        }
      ]
    },
    {
      "cell_type": "code",
      "source": [
        "## Autgrad package and Calculating Gradients\n",
        "\n"
      ],
      "metadata": {
        "id": "R26Lr3KrTGsd"
      },
      "execution_count": null,
      "outputs": []
    }
  ]
}