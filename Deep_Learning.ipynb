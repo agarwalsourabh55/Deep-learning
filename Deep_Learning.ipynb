{
  "nbformat": 4,
  "nbformat_minor": 0,
  "metadata": {
    "colab": {
      "name": "Deep Learning.ipynb",
      "provenance": [],
      "collapsed_sections": [],
      "authorship_tag": "ABX9TyPcEE4eaB8S2FjsB01PxRoh",
      "include_colab_link": true
    },
    "kernelspec": {
      "name": "python3",
      "display_name": "Python 3"
    },
    "language_info": {
      "name": "python"
    }
  },
  "cells": [
    {
      "cell_type": "markdown",
      "metadata": {
        "id": "view-in-github",
        "colab_type": "text"
      },
      "source": [
        "<a href=\"https://colab.research.google.com/github/agarwalsourabh55/Deep-learning/blob/deep_learning_dev/Deep_Learning.ipynb\" target=\"_parent\"><img src=\"https://colab.research.google.com/assets/colab-badge.svg\" alt=\"Open In Colab\"/></a>"
      ]
    },
    {
      "cell_type": "code",
      "execution_count": 3,
      "metadata": {
        "id": "VlIkxaNqNpFm",
        "colab": {
          "base_uri": "https://localhost:8080/"
        },
        "outputId": "5cf86420-9c69-4bfa-bc0d-28c3f107f1a1"
      },
      "outputs": [
        {
          "output_type": "stream",
          "name": "stdout",
          "text": [
            "tensor([7.2105e-37, 0.0000e+00, 4.4842e-44])\n"
          ]
        }
      ],
      "source": [
        "import torch\n",
        "\n",
        "## Create the Empty Tensor\n",
        "x= torch.empty(3)\n",
        "print(x)\n",
        "x= torch.empty(2,3)\n",
        "x= torch.empty(2,2,3)"
      ]
    },
    {
      "cell_type": "code",
      "source": [
        "## Creating torch with random values "
      ],
      "metadata": {
        "id": "U_gHJK42Oinh"
      },
      "execution_count": 2,
      "outputs": []
    },
    {
      "cell_type": "code",
      "source": [
        "torch.randn(2,3)"
      ],
      "metadata": {
        "colab": {
          "base_uri": "https://localhost:8080/"
        },
        "id": "4w_vaoJtOu_D",
        "outputId": "6fae67dc-953f-456a-ff26-6e83fe950399"
      },
      "execution_count": 4,
      "outputs": [
        {
          "output_type": "execute_result",
          "data": {
            "text/plain": [
              "tensor([[ 0.7233,  0.0378, -0.9199],\n",
              "        [ 1.4418, -1.2958, -0.3074]])"
            ]
          },
          "metadata": {},
          "execution_count": 4
        }
      ]
    },
    {
      "cell_type": "code",
      "source": [
        "torch.ones(2,2)"
      ],
      "metadata": {
        "colab": {
          "base_uri": "https://localhost:8080/"
        },
        "id": "aXlUmtq6O3c5",
        "outputId": "10d19825-34ca-4305-cccb-4037ef40b562"
      },
      "execution_count": 5,
      "outputs": [
        {
          "output_type": "execute_result",
          "data": {
            "text/plain": [
              "tensor([[1., 1.],\n",
              "        [1., 1.]])"
            ]
          },
          "metadata": {},
          "execution_count": 5
        }
      ]
    },
    {
      "cell_type": "code",
      "source": [
        "## Giving Specific Data type\n",
        "x.dtype  ## default float.32\n",
        "x= torch.ones(2,2,dtype=  torch.double)\n",
        "print(x.size())"
      ],
      "metadata": {
        "colab": {
          "base_uri": "https://localhost:8080/"
        },
        "id": "iNqvWFXiO5_H",
        "outputId": "199c9cd1-8326-42d6-cfa5-6a5502f20307"
      },
      "execution_count": 7,
      "outputs": [
        {
          "output_type": "stream",
          "name": "stdout",
          "text": [
            "torch.Size([2, 2])\n"
          ]
        }
      ]
    },
    {
      "cell_type": "code",
      "source": [
        "x= torch.tensor([2.5,0.1])\n",
        "print(x)"
      ],
      "metadata": {
        "colab": {
          "base_uri": "https://localhost:8080/"
        },
        "id": "ZamghMHeO9Ii",
        "outputId": "cbd7f5cc-5b6e-45b8-8661-0f754ab4f393"
      },
      "execution_count": 8,
      "outputs": [
        {
          "output_type": "stream",
          "name": "stdout",
          "text": [
            "tensor([2.5000, 0.1000])\n"
          ]
        }
      ]
    },
    {
      "cell_type": "code",
      "source": [
        "x= torch.randn(2,2)\n",
        "y= torch.randn(2,2)\n",
        "print(x)\n",
        "print(y)"
      ],
      "metadata": {
        "colab": {
          "base_uri": "https://localhost:8080/"
        },
        "id": "jEULN_BaPQPA",
        "outputId": "b6f2810f-d4fb-4758-f8cd-8a46d3e2ff1e"
      },
      "execution_count": 9,
      "outputs": [
        {
          "output_type": "stream",
          "name": "stdout",
          "text": [
            "tensor([[-0.4172,  0.2090],\n",
            "        [ 0.5973, -0.6693]])\n",
            "tensor([[ 1.6284, -1.3117],\n",
            "        [ 0.0707, -0.1412]])\n"
          ]
        }
      ]
    },
    {
      "cell_type": "code",
      "source": [
        "## Addition\n",
        "z= x+y\n",
        "print(z) # Element wise addition"
      ],
      "metadata": {
        "colab": {
          "base_uri": "https://localhost:8080/"
        },
        "id": "Y-r89odRPYv4",
        "outputId": "96736abd-8944-41ec-9aa3-303c98c55132"
      },
      "execution_count": 11,
      "outputs": [
        {
          "output_type": "stream",
          "name": "stdout",
          "text": [
            "tensor([[ 1.2112, -1.1028],\n",
            "        [ 0.6680, -0.8105]])\n"
          ]
        }
      ]
    },
    {
      "cell_type": "code",
      "source": [
        "z= torch.add(x,y)\n",
        "print(z)"
      ],
      "metadata": {
        "colab": {
          "base_uri": "https://localhost:8080/"
        },
        "id": "b5uerI1iPbJp",
        "outputId": "3015327b-2cc2-4459-a910-719b21dc0203"
      },
      "execution_count": 12,
      "outputs": [
        {
          "output_type": "stream",
          "name": "stdout",
          "text": [
            "tensor([[ 1.2112, -1.1028],\n",
            "        [ 0.6680, -0.8105]])\n"
          ]
        }
      ]
    },
    {
      "cell_type": "code",
      "source": [
        "## inplace addition\n",
        "y.add_(x) ## will modify y\n",
        "\n",
        "## Every funciton that has _ aat the last will do the inplace operation"
      ],
      "metadata": {
        "colab": {
          "base_uri": "https://localhost:8080/"
        },
        "id": "QNIOv2RxPhj0",
        "outputId": "d64554c8-6688-434d-bf61-8d9a5f0ae0e1"
      },
      "execution_count": 14,
      "outputs": [
        {
          "output_type": "execute_result",
          "data": {
            "text/plain": [
              "tensor([[ 0.7940, -0.8938],\n",
              "        [ 1.2653, -1.4798]])"
            ]
          },
          "metadata": {},
          "execution_count": 14
        }
      ]
    },
    {
      "cell_type": "code",
      "source": [
        "## substaraction\n",
        "z= x-y\n",
        "z=torch.sub(x,y)\n"
      ],
      "metadata": {
        "id": "LaMV419kPmkl"
      },
      "execution_count": 15,
      "outputs": []
    },
    {
      "cell_type": "code",
      "source": [
        "## Multipliacatino\n",
        "y.mul_(x)"
      ],
      "metadata": {
        "colab": {
          "base_uri": "https://localhost:8080/"
        },
        "id": "jb9e-tx5PzIr",
        "outputId": "2387cfee-3bf6-4a31-d876-c6a990f2fd06"
      },
      "execution_count": 16,
      "outputs": [
        {
          "output_type": "execute_result",
          "data": {
            "text/plain": [
              "tensor([[-0.3312, -0.1868],\n",
              "        [ 0.7557,  0.9904]])"
            ]
          },
          "metadata": {},
          "execution_count": 16
        }
      ]
    },
    {
      "cell_type": "code",
      "source": [
        "## division \n",
        "torch.div(x,y)"
      ],
      "metadata": {
        "colab": {
          "base_uri": "https://localhost:8080/"
        },
        "id": "ks6SQbUxP2GP",
        "outputId": "0fd79724-4ddc-442f-dbdf-3bff91004f43"
      },
      "execution_count": 17,
      "outputs": [
        {
          "output_type": "execute_result",
          "data": {
            "text/plain": [
              "tensor([[ 1.2595, -1.1188],\n",
              "        [ 0.7904, -0.6758]])"
            ]
          },
          "metadata": {},
          "execution_count": 17
        }
      ]
    },
    {
      "cell_type": "code",
      "source": [
        "## slicing Operations\n",
        "\n",
        "x= torch.rand(5,3)\n",
        "print(x[:,0])\n",
        "print(x)"
      ],
      "metadata": {
        "colab": {
          "base_uri": "https://localhost:8080/"
        },
        "id": "pfy3ZBxzP6iS",
        "outputId": "654b2331-20ef-4839-a5aa-21464ee15205"
      },
      "execution_count": 19,
      "outputs": [
        {
          "output_type": "stream",
          "name": "stdout",
          "text": [
            "tensor([0.3283, 0.7036, 0.6271, 0.6988, 0.4320])\n",
            "tensor([[0.3283, 0.1578, 0.4797],\n",
            "        [0.7036, 0.8818, 0.5780],\n",
            "        [0.6271, 0.4285, 0.4365],\n",
            "        [0.6988, 0.3112, 0.2248],\n",
            "        [0.4320, 0.7449, 0.2854]])\n"
          ]
        }
      ]
    },
    {
      "cell_type": "code",
      "source": [
        "x[1,2]"
      ],
      "metadata": {
        "colab": {
          "base_uri": "https://localhost:8080/"
        },
        "id": "kfO_xn5XQDbj",
        "outputId": "0837aa5e-b910-4ab6-9a52-48079b851384"
      },
      "execution_count": 21,
      "outputs": [
        {
          "output_type": "execute_result",
          "data": {
            "text/plain": [
              "tensor(0.5780)"
            ]
          },
          "metadata": {},
          "execution_count": 21
        }
      ]
    },
    {
      "cell_type": "code",
      "source": [
        "## Willge tthe actual value\n",
        "x[1,2].item()"
      ],
      "metadata": {
        "colab": {
          "base_uri": "https://localhost:8080/"
        },
        "id": "dOiQCNvDQNBj",
        "outputId": "d82b89ec-b2d3-41a0-b0c0-dbb94ae51f7f"
      },
      "execution_count": 22,
      "outputs": [
        {
          "output_type": "execute_result",
          "data": {
            "text/plain": [
              "0.5779715180397034"
            ]
          },
          "metadata": {},
          "execution_count": 22
        }
      ]
    },
    {
      "cell_type": "code",
      "source": [
        "## reshaping operation\n",
        "x= torch.rand(4,4)\n",
        "print(x)\n",
        "y= x.view(16)\n",
        "print(y)"
      ],
      "metadata": {
        "colab": {
          "base_uri": "https://localhost:8080/"
        },
        "id": "pSo6RkpJQUP3",
        "outputId": "05c5c9bb-2e1b-49bb-dacd-c26d58e62122"
      },
      "execution_count": 24,
      "outputs": [
        {
          "output_type": "stream",
          "name": "stdout",
          "text": [
            "tensor([[0.2961, 0.9147, 0.7951, 0.4519],\n",
            "        [0.0882, 0.6399, 0.0094, 0.0505],\n",
            "        [0.4640, 0.1325, 0.9942, 0.0237],\n",
            "        [0.6641, 0.5004, 0.4337, 0.2985]])\n",
            "tensor([0.2961, 0.9147, 0.7951, 0.4519, 0.0882, 0.6399, 0.0094, 0.0505, 0.4640,\n",
            "        0.1325, 0.9942, 0.0237, 0.6641, 0.5004, 0.4337, 0.2985])\n"
          ]
        }
      ]
    },
    {
      "cell_type": "code",
      "source": [
        "y= x.view(-1,4)\n",
        "print(y.size())"
      ],
      "metadata": {
        "colab": {
          "base_uri": "https://localhost:8080/"
        },
        "id": "yzBKkJTAQezb",
        "outputId": "5d7c5766-92f0-41c7-fd6c-81b25152ae8d"
      },
      "execution_count": 27,
      "outputs": [
        {
          "output_type": "stream",
          "name": "stdout",
          "text": [
            "torch.Size([4, 4])\n"
          ]
        }
      ]
    },
    {
      "cell_type": "code",
      "source": [
        "import numpy as np\n",
        "\n",
        "#converting numpy to tensor\n",
        "a = torch.ones(5)\n",
        "print(a)\n",
        "b = a.numpy()\n",
        "print(type(b))"
      ],
      "metadata": {
        "colab": {
          "base_uri": "https://localhost:8080/"
        },
        "id": "SCApdPIlQuKc",
        "outputId": "602c1812-8fc4-4f7a-eebb-ed65f7e9ce75"
      },
      "execution_count": 28,
      "outputs": [
        {
          "output_type": "stream",
          "name": "stdout",
          "text": [
            "tensor([1., 1., 1., 1., 1.])\n",
            "<class 'numpy.ndarray'>\n"
          ]
        }
      ]
    },
    {
      "cell_type": "code",
      "source": [
        "a.add_(1)"
      ],
      "metadata": {
        "colab": {
          "base_uri": "https://localhost:8080/"
        },
        "id": "uGErVxkZQwwO",
        "outputId": "d7787413-1781-4cd2-cb2c-1b0476ba03a2"
      },
      "execution_count": 29,
      "outputs": [
        {
          "output_type": "execute_result",
          "data": {
            "text/plain": [
              "tensor([2., 2., 2., 2., 2.])"
            ]
          },
          "metadata": {},
          "execution_count": 29
        }
      ]
    },
    {
      "cell_type": "code",
      "source": [
        "## Also added +1 to the b also..because they point to the same memory location\n",
        "print(a)\n",
        "print(b)"
      ],
      "metadata": {
        "colab": {
          "base_uri": "https://localhost:8080/"
        },
        "id": "gjD1V4aqR5IS",
        "outputId": "a436b26b-83ac-4612-9492-4091d041e532"
      },
      "execution_count": 31,
      "outputs": [
        {
          "output_type": "stream",
          "name": "stdout",
          "text": [
            "tensor([2., 2., 2., 2., 2.])\n",
            "[2. 2. 2. 2. 2.]\n"
          ]
        }
      ]
    },
    {
      "cell_type": "code",
      "source": [
        "a= np.ones(5)\n",
        "print(a)"
      ],
      "metadata": {
        "colab": {
          "base_uri": "https://localhost:8080/"
        },
        "id": "gMTL5kLQR7pJ",
        "outputId": "67b76793-348f-4b40-ecc8-febd41996a0b"
      },
      "execution_count": 32,
      "outputs": [
        {
          "output_type": "stream",
          "name": "stdout",
          "text": [
            "[1. 1. 1. 1. 1.]\n"
          ]
        }
      ]
    },
    {
      "cell_type": "code",
      "source": [
        "b= torch.from_numpy(a)\n",
        "print(b)"
      ],
      "metadata": {
        "colab": {
          "base_uri": "https://localhost:8080/"
        },
        "id": "Eugmjo1QSEuf",
        "outputId": "4a94aa37-8695-4685-845c-eb61320494b0"
      },
      "execution_count": 33,
      "outputs": [
        {
          "output_type": "stream",
          "name": "stdout",
          "text": [
            "tensor([1., 1., 1., 1., 1.], dtype=torch.float64)\n"
          ]
        }
      ]
    },
    {
      "cell_type": "code",
      "source": [
        "a+=1"
      ],
      "metadata": {
        "id": "dBieziy7SJ5D"
      },
      "execution_count": 35,
      "outputs": []
    },
    {
      "cell_type": "code",
      "source": [
        "## This happen only when you have tensor on the GPU\n",
        "print(a)\n",
        "print(b)"
      ],
      "metadata": {
        "colab": {
          "base_uri": "https://localhost:8080/"
        },
        "id": "9bh6X80WSNZ0",
        "outputId": "22d39ebe-9311-4599-c7b4-4640fb71227d"
      },
      "execution_count": 37,
      "outputs": [
        {
          "output_type": "stream",
          "name": "stdout",
          "text": [
            "[2. 2. 2. 2. 2.]\n",
            "tensor([2., 2., 2., 2., 2.], dtype=torch.float64)\n"
          ]
        }
      ]
    },
    {
      "cell_type": "code",
      "source": [
        "## checking cuda availability\n",
        "if torch.cuda.is_available():\n",
        "  device = torch.device(\"cuda\")\n",
        "  x = torch.ones(5,device = device)\n",
        "  y = torch.ones(5)\n",
        "  y= y.to(device)\n",
        "\n",
        "  z= x+y\n",
        "  z.numpy()## will return error because numpy only handle CPU tensors not GPU\n",
        "  z = z.to(\"cpu\")\n",
        "else:\n",
        "  print(\"not available\")"
      ],
      "metadata": {
        "colab": {
          "base_uri": "https://localhost:8080/"
        },
        "id": "jCa2eHRASRAs",
        "outputId": "4a91bcb7-b587-4336-8731-1d3bad68ba13"
      },
      "execution_count": 40,
      "outputs": [
        {
          "output_type": "stream",
          "name": "stdout",
          "text": [
            "not available\n"
          ]
        }
      ]
    },
    {
      "cell_type": "code",
      "source": [
        "\n",
        "x = torch.ones(5,requires_grad = True)  ## tellthe pytroch that it will nees to calculate the gradients\n",
        "print(x)"
      ],
      "metadata": {
        "colab": {
          "base_uri": "https://localhost:8080/"
        },
        "id": "-tl_XkmaSszh",
        "outputId": "69792fa7-fdb6-49aa-892d-b08aab03fa00"
      },
      "execution_count": 42,
      "outputs": [
        {
          "output_type": "stream",
          "name": "stdout",
          "text": [
            "tensor([1., 1., 1., 1., 1.], requires_grad=True)\n"
          ]
        }
      ]
    },
    {
      "cell_type": "code",
      "source": [
        "## Autgrad package and Calculating Gradients\n",
        "import torch\n",
        "x= torch.randn(3,requires_grad = True)\n",
        "print(x)"
      ],
      "metadata": {
        "colab": {
          "base_uri": "https://localhost:8080/"
        },
        "id": "R26Lr3KrTGsd",
        "outputId": "cfa6e09c-620d-4662-ea14-155f5cb1edb8"
      },
      "execution_count": 53,
      "outputs": [
        {
          "output_type": "stream",
          "name": "stdout",
          "text": [
            "tensor([0.9422, 1.3274, 0.2494], requires_grad=True)\n"
          ]
        }
      ]
    },
    {
      "cell_type": "code",
      "source": [
        "y = x+2 ## will create the computational graph    x                      this is forward pass\n",
        "                                                      # +   y\n",
        "                                                  # 2\n",
        "## pytorch will automatically create the function that will later use to creat the backpropogation function_name = Addbackward\n",
        "\n",
        "print(y)"
      ],
      "metadata": {
        "colab": {
          "base_uri": "https://localhost:8080/"
        },
        "id": "YGTBGePHTk6C",
        "outputId": "5a0268e5-b41f-4336-a353-d9791f021d30"
      },
      "execution_count": 54,
      "outputs": [
        {
          "output_type": "stream",
          "name": "stdout",
          "text": [
            "tensor([2.9422, 3.3274, 2.2494], grad_fn=<AddBackward0>)\n"
          ]
        }
      ]
    },
    {
      "cell_type": "code",
      "source": [
        "z= y*y*2\n",
        "print(z)\n"
      ],
      "metadata": {
        "colab": {
          "base_uri": "https://localhost:8080/"
        },
        "id": "gdEc9_ExUH5q",
        "outputId": "1afb4a40-7dd2-41de-c0b5-a1299da9d391"
      },
      "execution_count": 55,
      "outputs": [
        {
          "output_type": "stream",
          "name": "stdout",
          "text": [
            "tensor([17.3136, 22.1426, 10.1199], grad_fn=<MulBackward0>)\n"
          ]
        }
      ]
    },
    {
      "cell_type": "code",
      "source": [
        "z= z.mean()\n",
        "print(z)"
      ],
      "metadata": {
        "colab": {
          "base_uri": "https://localhost:8080/"
        },
        "id": "HAKsTgdLUR7r",
        "outputId": "45e11516-c284-408f-dc55-c629d3d33d5c"
      },
      "execution_count": 56,
      "outputs": [
        {
          "output_type": "stream",
          "name": "stdout",
          "text": [
            "tensor(16.5254, grad_fn=<MeanBackward0>)\n"
          ]
        }
      ]
    },
    {
      "cell_type": "code",
      "source": [
        "z.backward() ## tocalulat ethe gradient of z with respect tox\n",
        "print(x.grad)  ## x store that gradient\n",
        "## in backward it will creat the vector of jacobian matrix"
      ],
      "metadata": {
        "colab": {
          "base_uri": "https://localhost:8080/"
        },
        "id": "8L86WutxUUSI",
        "outputId": "556fc4a1-dcbe-4418-a931-b47e64fbaa78"
      },
      "execution_count": 57,
      "outputs": [
        {
          "output_type": "stream",
          "name": "stdout",
          "text": [
            "tensor([3.9230, 4.4365, 2.9992])\n"
          ]
        }
      ]
    },
    {
      "cell_type": "code",
      "source": [
        "x= torch.randn(3,requires_grad= True)\n",
        "y= x+2\n",
        "z= y*y*2\n",
        "\n",
        "# z.backward()\n",
        "# print(x.grad)# this will give error need to add one line \n",
        "\n",
        "v = torch.tensor([0.1,1.0,0.001], dtype = torch.float32)\n",
        "z.backward(v)\n",
        "print(x.grad)"
      ],
      "metadata": {
        "colab": {
          "base_uri": "https://localhost:8080/"
        },
        "id": "sH71CtgCUcVG",
        "outputId": "1d34e456-f96c-49dc-93e9-1b378c1e3dc4"
      },
      "execution_count": 58,
      "outputs": [
        {
          "output_type": "stream",
          "name": "stdout",
          "text": [
            "tensor([0.8598, 5.9732, 0.0117])\n"
          ]
        }
      ]
    },
    {
      "cell_type": "code",
      "source": [
        "## Call the requires_grad_(False)\n",
        "## x.detach() ## create new tensor that doesn't reauire gradieent\n",
        "## with torch.no_grad():\n",
        "\n",
        "x= torch.randn(3,requires_grad = True)\n",
        "print(x)\n",
        "x.requires_grad_(False)\n"
      ],
      "metadata": {
        "colab": {
          "base_uri": "https://localhost:8080/"
        },
        "id": "9cZ_wFLGVfuh",
        "outputId": "d2e62ca1-bf41-41f3-b920-2b6ee7e558f3"
      },
      "execution_count": 59,
      "outputs": [
        {
          "output_type": "stream",
          "name": "stdout",
          "text": [
            "tensor([ 1.5585, -0.6175, -1.0777], requires_grad=True)\n"
          ]
        },
        {
          "output_type": "execute_result",
          "data": {
            "text/plain": [
              "tensor([ 1.5585, -0.6175, -1.0777])"
            ]
          },
          "metadata": {},
          "execution_count": 59
        }
      ]
    },
    {
      "cell_type": "code",
      "source": [
        "y = x.detach()\n",
        "print(y)"
      ],
      "metadata": {
        "colab": {
          "base_uri": "https://localhost:8080/"
        },
        "id": "EwJgaHGtWSsr",
        "outputId": "b66c3901-3fb4-4af9-a0e8-e4c656e31d82"
      },
      "execution_count": 60,
      "outputs": [
        {
          "output_type": "stream",
          "name": "stdout",
          "text": [
            "tensor([ 1.5585, -0.6175, -1.0777])\n"
          ]
        }
      ]
    },
    {
      "cell_type": "code",
      "source": [
        "x= torch.randn(3,requires_grad = True)\n",
        "with torch.no_grad():\n",
        "  y = x+2\n",
        "  print(y) ## y don't have gradient function\n",
        "print(x) ## x has gradient"
      ],
      "metadata": {
        "colab": {
          "base_uri": "https://localhost:8080/"
        },
        "id": "alRzt9e8WdsY",
        "outputId": "b1bb8afc-e33d-40ac-bb1d-40e15e1d0b58"
      },
      "execution_count": 65,
      "outputs": [
        {
          "output_type": "stream",
          "name": "stdout",
          "text": [
            "tensor([2.6250, 2.2028, 0.5080])\n",
            "tensor([ 0.6250,  0.2028, -1.4920], requires_grad=True)\n"
          ]
        }
      ]
    },
    {
      "cell_type": "code",
      "source": [
        "## Whenever we call the backward function the value will be accumulated in the x"
      ],
      "metadata": {
        "id": "srDgqWnNWjsE"
      },
      "execution_count": 66,
      "outputs": []
    },
    {
      "cell_type": "code",
      "source": [
        "weights = torch.ones(4,requires_grad = True)\n",
        "for epoch in range(2):\n",
        "  model_output = (weights*3).sum()\n",
        "  model_output.backward()\n",
        "  print(weights.grad)\n",
        "  weights.grad.zero_()  # need to add this to prevent gradient to calculate on every iteration\n"
      ],
      "metadata": {
        "colab": {
          "base_uri": "https://localhost:8080/"
        },
        "id": "dOLrKdW4Wk0V",
        "outputId": "35470fa2-37d4-4334-a857-ba02b4d9ff3f"
      },
      "execution_count": 74,
      "outputs": [
        {
          "output_type": "stream",
          "name": "stdout",
          "text": [
            "tensor([3., 3., 3., 3.])\n",
            "tensor([3., 3., 3., 3.])\n"
          ]
        }
      ]
    },
    {
      "cell_type": "code",
      "source": [
        "weights = torch.ones(4,requires_grad = True)\n",
        "\n",
        "\n",
        "optimizer = torch.optim.SGD([weights] , lr = 0.01)\n",
        "optimizer.step()\n",
        "optimizer.zero_grad()"
      ],
      "metadata": {
        "id": "lIbOgwSVYYcv"
      },
      "execution_count": 83,
      "outputs": []
    },
    {
      "cell_type": "code",
      "source": [
        "weights = torch.ones(4,requires_grad = True)\n",
        "\n",
        "## these are autograd package\n",
        "# z.backward()\n",
        "# weights.grad.zero_()"
      ],
      "metadata": {
        "id": "-Wfy6ZlEYuri"
      },
      "execution_count": 86,
      "outputs": []
    },
    {
      "cell_type": "code",
      "source": [
        "## Backpropogation\n",
        "\n",
        "## forward pass: compute Loss\n",
        "## Compute local gradients\n",
        "## Backward pass: Compute dLoss / dWeights using the Chain Rule\n",
        "x = torch.tensor(1.0)\n",
        "y = torch.tensor(2.0)\n",
        "\n",
        "w = torch.tensor(1.0,requires_grad = True)\n",
        "\n",
        "## Forward pass and compute the loss\n",
        "y_hat = w*x\n",
        "loss = (y_hat - y)**2\n",
        "\n",
        "print(loss)\n",
        "\n",
        "# backward pass\n",
        "loss.backward()\n",
        "print(w.grad)\n",
        "\n",
        "### update weights\n",
        "### next forward and backwars\n",
        "\n",
        "\n"
      ],
      "metadata": {
        "colab": {
          "base_uri": "https://localhost:8080/"
        },
        "id": "4893Siicd9Lm",
        "outputId": "d367e75c-600e-4ed4-d324-c37c0df41082"
      },
      "execution_count": 87,
      "outputs": [
        {
          "output_type": "stream",
          "name": "stdout",
          "text": [
            "tensor(1., grad_fn=<PowBackward0>)\n",
            "tensor(-2.)\n"
          ]
        }
      ]
    },
    {
      "cell_type": "code",
      "source": [
        "import numpy as np\n",
        "import torch\n",
        "\n",
        "X = np.array([1,2,3,4],dtype= np.float32)\n",
        "Y  = np.array([2,4,6,8],dtype = np.float32)\n",
        "\n",
        "w = 0.0\n",
        "\n",
        "# Model Prediction\n",
        "def forward(x):\n",
        "  return w*x\n",
        "\n",
        "## loss = MSE\n",
        "def loss(y,y_predicted):\n",
        "  return((y_predicted-y)**2).mean()\n",
        "\n",
        "# gradient\n",
        "# MSE =1/N * (w*x - y)**2\n",
        "# dJ/dw = 1/N 2x (w*x -y)\n",
        "\n",
        "def gradient(x,y,y_predicted):\n",
        "  return np.dot(2*x, y_predicted-y).mean()\n",
        "\n",
        "print(f'Prediction before training: f(5) = {forward(5):.3f}')\n",
        "\n",
        "# Training\n",
        "learning_rate = 0.01\n",
        "n_iters = 10\n",
        "\n",
        "for epoch in range(n_iters):\n",
        "  # prediction = forward pass\n",
        "  y_pred = forward(X)\n",
        "  l = loss(Y,y_pred)\n",
        "\n",
        "  ## gradients\n",
        "  dw = gradient(X,Y,y_pred)\n",
        "\n",
        "  # update weights\n",
        "  w -= learning_rate * dw\n",
        "\n",
        "  if epoch % 1 ==0:\n",
        "    print(f'epoch {epoch+1}: w = {w:.3f}, loss = {l:.8f}')\n",
        "\n",
        "print(f'Prediction after Training : f(5) = {forward(5):.3f}')\n"
      ],
      "metadata": {
        "colab": {
          "base_uri": "https://localhost:8080/"
        },
        "id": "5JppsQ1WiIEw",
        "outputId": "5c9cc757-ee7b-498c-9c7f-70fbcd379508"
      },
      "execution_count": 2,
      "outputs": [
        {
          "output_type": "stream",
          "name": "stdout",
          "text": [
            "Prediction before training: f(5) = 0.000\n",
            "epoch 1: w = 1.200, loss = 30.00000000\n",
            "epoch 2: w = 1.680, loss = 4.79999924\n",
            "epoch 3: w = 1.872, loss = 0.76800019\n",
            "epoch 4: w = 1.949, loss = 0.12288000\n",
            "epoch 5: w = 1.980, loss = 0.01966083\n",
            "epoch 6: w = 1.992, loss = 0.00314574\n",
            "epoch 7: w = 1.997, loss = 0.00050331\n",
            "epoch 8: w = 1.999, loss = 0.00008053\n",
            "epoch 9: w = 1.999, loss = 0.00001288\n",
            "epoch 10: w = 2.000, loss = 0.00000206\n",
            "Prediction after Training : f(5) = 9.999\n"
          ]
        }
      ]
    },
    {
      "cell_type": "code",
      "source": [
        "# import numpy as np\n",
        "import torch\n",
        "\n",
        "X = torch.tensor([1,2,3,4],dtype= torch.float32)\n",
        "Y  =torch.tensor([2,4,6,8],dtype = torch.float32)\n",
        "\n",
        "w = torch.tensor(0.0,dtype = torch.float32, requires_grad= True)\n",
        "\n",
        "# Model Prediction\n",
        "def forward(x):\n",
        "  return w*x\n",
        "\n",
        "## loss = MSE\n",
        "def loss(y,y_predicted):\n",
        "  return((y_predicted-y)**2).mean()\n",
        "\n",
        "# gradient\n",
        "# MSE =1/N * (w*x - y)**2\n",
        "# dJ/dw = 1/N 2x (w*x -y)\n",
        "\n",
        "# def gradient(x,y,y_predicted):\n",
        "#   return np.dot(2*x, y_predicted-y).mean()\n",
        "\n",
        "print(f'Prediction before training: f(5) = {forward(5):.3f}')\n",
        "\n",
        "# Training\n",
        "learning_rate = 0.01\n",
        "n_iters = 100\n",
        "\n",
        "for epoch in range(n_iters):\n",
        "  # prediction = forward pass\n",
        "  y_pred = forward(X)\n",
        "  l = loss(Y,y_pred)\n",
        "\n",
        "  ## gradients\n",
        "  # dw = gradient(X,Y,y_pred)\n",
        "  l.backward() ## calulate the gradient of loss dl/dw\n",
        "\n",
        "  # update weights\n",
        "  with torch.no_grad():\n",
        "    w -= learning_rate * w.grad\n",
        "\n",
        "  ## empty zero gradient\n",
        "  w.grad.zero_()\n",
        "  \n",
        "  if epoch % 1 ==0:\n",
        "    print(f'epoch {epoch+1}: w = {w:.3f}, loss = {l:.8f}')\n",
        "\n",
        "print(f'Prediction after Training : f(5) = {forward(5):.3f}')\n"
      ],
      "metadata": {
        "colab": {
          "base_uri": "https://localhost:8080/"
        },
        "id": "Vdmpg6YuHWnq",
        "outputId": "addc3d31-d3b0-4941-df6b-5fea2ec0a862"
      },
      "execution_count": 5,
      "outputs": [
        {
          "output_type": "stream",
          "name": "stdout",
          "text": [
            "Prediction before training: f(5) = 0.000\n",
            "epoch 1: w = 0.300, loss = 30.00000000\n",
            "epoch 2: w = 0.555, loss = 21.67499924\n",
            "epoch 3: w = 0.772, loss = 15.66018772\n",
            "epoch 4: w = 0.956, loss = 11.31448650\n",
            "epoch 5: w = 1.113, loss = 8.17471695\n",
            "epoch 6: w = 1.246, loss = 5.90623236\n",
            "epoch 7: w = 1.359, loss = 4.26725292\n",
            "epoch 8: w = 1.455, loss = 3.08308983\n",
            "epoch 9: w = 1.537, loss = 2.22753215\n",
            "epoch 10: w = 1.606, loss = 1.60939169\n",
            "epoch 11: w = 1.665, loss = 1.16278565\n",
            "epoch 12: w = 1.716, loss = 0.84011245\n",
            "epoch 13: w = 1.758, loss = 0.60698116\n",
            "epoch 14: w = 1.794, loss = 0.43854395\n",
            "epoch 15: w = 1.825, loss = 0.31684780\n",
            "epoch 16: w = 1.851, loss = 0.22892261\n",
            "epoch 17: w = 1.874, loss = 0.16539653\n",
            "epoch 18: w = 1.893, loss = 0.11949898\n",
            "epoch 19: w = 1.909, loss = 0.08633806\n",
            "epoch 20: w = 1.922, loss = 0.06237914\n",
            "epoch 21: w = 1.934, loss = 0.04506890\n",
            "epoch 22: w = 1.944, loss = 0.03256231\n",
            "epoch 23: w = 1.952, loss = 0.02352631\n",
            "epoch 24: w = 1.960, loss = 0.01699772\n",
            "epoch 25: w = 1.966, loss = 0.01228084\n",
            "epoch 26: w = 1.971, loss = 0.00887291\n",
            "epoch 27: w = 1.975, loss = 0.00641066\n",
            "epoch 28: w = 1.979, loss = 0.00463169\n",
            "epoch 29: w = 1.982, loss = 0.00334642\n",
            "epoch 30: w = 1.985, loss = 0.00241778\n",
            "epoch 31: w = 1.987, loss = 0.00174685\n",
            "epoch 32: w = 1.989, loss = 0.00126211\n",
            "epoch 33: w = 1.991, loss = 0.00091188\n",
            "epoch 34: w = 1.992, loss = 0.00065882\n",
            "epoch 35: w = 1.993, loss = 0.00047601\n",
            "epoch 36: w = 1.994, loss = 0.00034392\n",
            "epoch 37: w = 1.995, loss = 0.00024848\n",
            "epoch 38: w = 1.996, loss = 0.00017952\n",
            "epoch 39: w = 1.996, loss = 0.00012971\n",
            "epoch 40: w = 1.997, loss = 0.00009371\n",
            "epoch 41: w = 1.997, loss = 0.00006770\n",
            "epoch 42: w = 1.998, loss = 0.00004891\n",
            "epoch 43: w = 1.998, loss = 0.00003534\n",
            "epoch 44: w = 1.998, loss = 0.00002553\n",
            "epoch 45: w = 1.999, loss = 0.00001845\n",
            "epoch 46: w = 1.999, loss = 0.00001333\n",
            "epoch 47: w = 1.999, loss = 0.00000963\n",
            "epoch 48: w = 1.999, loss = 0.00000696\n",
            "epoch 49: w = 1.999, loss = 0.00000503\n",
            "epoch 50: w = 1.999, loss = 0.00000363\n",
            "epoch 51: w = 1.999, loss = 0.00000262\n",
            "epoch 52: w = 2.000, loss = 0.00000190\n",
            "epoch 53: w = 2.000, loss = 0.00000137\n",
            "epoch 54: w = 2.000, loss = 0.00000099\n",
            "epoch 55: w = 2.000, loss = 0.00000071\n",
            "epoch 56: w = 2.000, loss = 0.00000052\n",
            "epoch 57: w = 2.000, loss = 0.00000037\n",
            "epoch 58: w = 2.000, loss = 0.00000027\n",
            "epoch 59: w = 2.000, loss = 0.00000019\n",
            "epoch 60: w = 2.000, loss = 0.00000014\n",
            "epoch 61: w = 2.000, loss = 0.00000010\n",
            "epoch 62: w = 2.000, loss = 0.00000007\n",
            "epoch 63: w = 2.000, loss = 0.00000005\n",
            "epoch 64: w = 2.000, loss = 0.00000004\n",
            "epoch 65: w = 2.000, loss = 0.00000003\n",
            "epoch 66: w = 2.000, loss = 0.00000002\n",
            "epoch 67: w = 2.000, loss = 0.00000001\n",
            "epoch 68: w = 2.000, loss = 0.00000001\n",
            "epoch 69: w = 2.000, loss = 0.00000001\n",
            "epoch 70: w = 2.000, loss = 0.00000001\n",
            "epoch 71: w = 2.000, loss = 0.00000000\n",
            "epoch 72: w = 2.000, loss = 0.00000000\n",
            "epoch 73: w = 2.000, loss = 0.00000000\n",
            "epoch 74: w = 2.000, loss = 0.00000000\n",
            "epoch 75: w = 2.000, loss = 0.00000000\n",
            "epoch 76: w = 2.000, loss = 0.00000000\n",
            "epoch 77: w = 2.000, loss = 0.00000000\n",
            "epoch 78: w = 2.000, loss = 0.00000000\n",
            "epoch 79: w = 2.000, loss = 0.00000000\n",
            "epoch 80: w = 2.000, loss = 0.00000000\n",
            "epoch 81: w = 2.000, loss = 0.00000000\n",
            "epoch 82: w = 2.000, loss = 0.00000000\n",
            "epoch 83: w = 2.000, loss = 0.00000000\n",
            "epoch 84: w = 2.000, loss = 0.00000000\n",
            "epoch 85: w = 2.000, loss = 0.00000000\n",
            "epoch 86: w = 2.000, loss = 0.00000000\n",
            "epoch 87: w = 2.000, loss = 0.00000000\n",
            "epoch 88: w = 2.000, loss = 0.00000000\n",
            "epoch 89: w = 2.000, loss = 0.00000000\n",
            "epoch 90: w = 2.000, loss = 0.00000000\n",
            "epoch 91: w = 2.000, loss = 0.00000000\n",
            "epoch 92: w = 2.000, loss = 0.00000000\n",
            "epoch 93: w = 2.000, loss = 0.00000000\n",
            "epoch 94: w = 2.000, loss = 0.00000000\n",
            "epoch 95: w = 2.000, loss = 0.00000000\n",
            "epoch 96: w = 2.000, loss = 0.00000000\n",
            "epoch 97: w = 2.000, loss = 0.00000000\n",
            "epoch 98: w = 2.000, loss = 0.00000000\n",
            "epoch 99: w = 2.000, loss = 0.00000000\n",
            "epoch 100: w = 2.000, loss = 0.00000000\n",
            "Prediction after Training : f(5) = 10.000\n"
          ]
        }
      ]
    },
    {
      "cell_type": "code",
      "source": [
        "## Remove manuall work from previous cell\n",
        "# 1) Design Model (input,output_size,forward pass)\n",
        "# 2) Construct loss and optimizer\n",
        "# 3) Training loop\n",
        "#  - forward pass: compute predictions\n",
        "#  - backward pass: gradients\n",
        "#  - update weights\n",
        "#   iterate the couple of times for the best result\n",
        "\n",
        "import torch\n",
        "import torch.nn as nn\n",
        "\n",
        "X = torch.tensor([ [1]\n",
        "                  ,[2]\n",
        "                  ,[3]\n",
        "                  ,[4]],dtype= torch.float32)\n",
        "Y  =torch.tensor([ [2]\n",
        "                  ,[4]\n",
        "                  ,[6]\n",
        "                  ,[8]],dtype = torch.float32)\n",
        "\n",
        "X_test = torch.tensor([5],dtype = torch.float32)\n",
        "\n",
        "n_samples,n_features = X.shape\n",
        "print(n_samples,n_features)\n",
        "\n",
        "input_size = n_features\n",
        "output_size = n_features\n",
        "\n",
        "# model = nn.Linear(input_size,output_size)\n",
        "\n",
        "# OR\n",
        "## For custom Model\n",
        "\n",
        "class LinearRegression(nn.Module):\n",
        "\n",
        "  def __init__(self,input_dim, output_dim):\n",
        "    super(LinearRegression,self).__init__()\n",
        "    self.lin = nn.Linear(input_dim,output_dim)\n",
        "\n",
        "  def forward(self,x):\n",
        "    return self.lin(x)\n",
        "\n",
        "model = LinearRegression(input_size , output_size)\n",
        "\n",
        "\n",
        "print(f'Prediction before training: f(5) = {model(X_test).item():.3f}')\n",
        "\n",
        "# Training\n",
        "learning_rate = 0.01\n",
        "n_iters = 100\n",
        "\n",
        "loss = nn.MSELoss()\n",
        "optimizer = torch.optim.SGD(model.parameters(), lr = learning_rate)\n",
        "\n",
        "for epoch in range(n_iters):\n",
        "  # prediction = forward pass\n",
        "  y_pred = model(X)\n",
        "  l = loss(Y,y_pred)\n",
        "\n",
        "  ## gradients\n",
        "  # dw = gradient(X,Y,y_pred)\n",
        "  l.backward() ## calulate the gradient of loss dl/dw\n",
        "\n",
        "  # update weights\n",
        "  # with torch.no_grad():\n",
        "  #   w -= learning_rate * w.grad\n",
        "  optimizer.step()\n",
        "  ## empty zero gradient\n",
        "  # w.grad.zero_()\n",
        "  optimizer.zero_grad()\n",
        "  \n",
        "  if epoch % 10 ==0:\n",
        "    [w,b]= model.parameters()\n",
        "    print(f'epoch {epoch+1}: w = {w[0][0].item():.3f}, loss = {l:.8f}')\n",
        "\n",
        "print(f'Prediction after Training : f(5) = {model(X_test).item():.3f}')\n",
        "\n"
      ],
      "metadata": {
        "colab": {
          "base_uri": "https://localhost:8080/"
        },
        "id": "erhAmB-tIo1k",
        "outputId": "ab7a1717-fdf6-445e-c1c0-ccf128937abe"
      },
      "execution_count": 8,
      "outputs": [
        {
          "output_type": "stream",
          "name": "stdout",
          "text": [
            "4 1\n",
            "Prediction before training: f(5) = -2.793\n",
            "epoch 1: w = -0.181, loss = 48.96280289\n",
            "epoch 11: w = 1.428, loss = 1.36606526\n",
            "epoch 21: w = 1.693, loss = 0.12884462\n",
            "epoch 31: w = 1.742, loss = 0.09139267\n",
            "epoch 41: w = 1.756, loss = 0.08529816\n",
            "epoch 51: w = 1.765, loss = 0.08031323\n",
            "epoch 61: w = 1.772, loss = 0.07563814\n",
            "epoch 71: w = 1.779, loss = 0.07123555\n",
            "epoch 81: w = 1.785, loss = 0.06708927\n",
            "epoch 91: w = 1.791, loss = 0.06318435\n",
            "Prediction after Training : f(5) = 9.582\n"
          ]
        }
      ]
    },
    {
      "cell_type": "code",
      "source": [
        "\n",
        "import torch\n",
        "import torch.nn as nn\n",
        "import numpy as np\n",
        "from sklearn import datasets\n",
        "import matplotlib.pyplot as plt\n",
        "\n",
        "# 0 Prepare Data\n",
        "X_numpy, y_numpy = datasets.make_regression(n_samples= 100, n_features=1,noise=20,random_state = 1)\n",
        "X= torch.from_numpy(X_numpy.astype(np.float32))\n",
        "y= torch.from_numpy(y_numpy.astype(np.float32))\n",
        "\n",
        "print(y.shape)\n",
        "y = y.view(y.shape[0],1)  ## Will reshape the tensor\n",
        "print(y.shape)\n",
        "\n",
        "n_samples,n_features = X.shape\n",
        "# 1 model\n",
        "\n",
        "input_size = n_features\n",
        "output_size = 1\n",
        "model = nn.Linear(input_size,output_size)\n",
        "\n",
        "\n",
        "# 2 loss and optimizer\n",
        "learning_rate = 0.01\n",
        "criterion = nn.MSELoss()\n",
        "optimizer = torch.optim.SGD(model.parameters(),lr= learning_rate)\n",
        "\n",
        "# 3 training loop\n",
        "num_epochs = 100\n",
        "\n",
        "for epoch in range(num_epochs):\n",
        "  #  Forward pass and loss\n",
        "  y_predicted = model(X)\n",
        "  loss = criterion(y_predicted,y)\n",
        "\n",
        "  # backward pass\n",
        "  loss.backward()\n",
        "\n",
        "  # update\n",
        "  optimizer.step()\n",
        "\n",
        "  optimizer.zero_grad()\n",
        "\n",
        "  if (epoch+1) % 10==0:\n",
        "    print(f'epoch: {epoch+1}, loss = {loss.item():.4f}')\n",
        "\n",
        "#plot \n",
        "predicted = model(X).detach().numpy()\n",
        "plt.plot(X_numpy,y_numpy,'ro')\n",
        "plt.plot(X_numpy, predicted,'b')\n",
        "plt.show()"
      ],
      "metadata": {
        "colab": {
          "base_uri": "https://localhost:8080/",
          "height": 473
        },
        "id": "mcpmlrxHK70A",
        "outputId": "510da8f5-04ed-43a9-c980-c3c300dd805f"
      },
      "execution_count": 4,
      "outputs": [
        {
          "output_type": "stream",
          "name": "stdout",
          "text": [
            "torch.Size([100])\n",
            "torch.Size([100, 1])\n",
            "epoch: 10, loss = 4405.9434\n",
            "epoch: 20, loss = 3287.7805\n",
            "epoch: 30, loss = 2478.4160\n",
            "epoch: 40, loss = 1891.9624\n",
            "epoch: 50, loss = 1466.6166\n",
            "epoch: 60, loss = 1157.8466\n",
            "epoch: 70, loss = 933.5183\n",
            "epoch: 80, loss = 770.4158\n",
            "epoch: 90, loss = 651.7463\n",
            "epoch: 100, loss = 565.3505\n"
          ]
        },
        {
          "output_type": "display_data",
          "data": {
            "text/plain": [
              "<Figure size 432x288 with 1 Axes>"
            ],
            "image/png": "[encoded data removed]"
          },
          "metadata": {
            "needs_background": "light"
          }
        }
      ]
    },
    {
      "cell_type": "code",
      "source": [
        "import torch\n",
        "import torch.nn as nn\n",
        "import numpy as np\n",
        "from sklearn import datasets\n",
        "from sklearn.preprocessing import StandardScaler\n",
        "from sklearn.model_selection import train_test_split\n",
        "\n",
        "# 0) prepare data\n",
        "bc = datasets.load_breast_cancer()\n",
        "X,y = bc.data , bc.target\n",
        "\n",
        "n_samples,n_features =X.shape\n",
        "print(n_samples, n_features)\n",
        "\n",
        "X_train,X_test,y_train,y_test = train_test_split(X,y ,test_size = 0.2,random_state = 1234)\n",
        "\n",
        "\n",
        "# 1) model\n",
        "# 2) loss and optimizer\n",
        "# 3) training loop"
      ],
      "metadata": {
        "colab": {
          "base_uri": "https://localhost:8080/"
        },
        "id": "qNwlBGwiTIVQ",
        "outputId": "b6ec1b64-8ce0-4f35-97b5-1a21059e1273"
      },
      "execution_count": 14,
      "outputs": [
        {
          "output_type": "stream",
          "name": "stdout",
          "text": [
            "569 30\n"
          ]
        }
      ]
    },
    {
      "cell_type": "code",
      "source": [
        "\n",
        "import torch\n",
        "import torch.nn as nn\n",
        "import numpy as np\n",
        "from sklearn import datasets\n",
        "from sklearn.preprocessing import StandardScaler\n",
        "from sklearn.model_selection import train_test_split\n",
        "\n",
        "# 0) prepare data\n",
        "bc = datasets.load_breast_cancer()\n",
        "X,y = bc.data , bc.target\n",
        "\n",
        "n_samples,n_features =X.shape\n",
        "print(n_samples, n_features)\n",
        "\n",
        "X_train,X_test,y_train,y_test = train_test_split(X,y ,test_size = 0.2,random_state = 1234)\n",
        "\n",
        "\n",
        "sc =StandardScaler()\n",
        "X_train = sc.fit_transform(X_train)\n",
        "X_test = sc.transform(X_test)\n",
        "\n",
        "X_train = torch.from_numpy(X_train.astype(np.float32))\n",
        "X_test = torch.from_numpy(X_test.astype(np.float32))\n",
        "y_train = torch.from_numpy(y_train.astype(np.float32))\n",
        "y_test = torch.from_numpy(y_test.astype(np.float32))\n",
        "\n",
        "y_train = y_train.view(y_train.shape[0],1)\n",
        "y_test = y_test.view(y_test.shape[0],1)\n",
        "\n",
        "# model\n",
        "class LogisticRegression(nn.Module):\n",
        "  def __init__(self,n_input_features):\n",
        "    super(LogisticRegression,self).__init__()\n",
        "    self.linear = nn.Linear(n_input_features, 1)\n",
        "\n",
        "  def forward(self,x):\n",
        "    y_predicted = torch.sigmoid(self.linear(x))\n",
        "    return y_predicted\n",
        "\n",
        "model = LogisticRegression(n_features)\n",
        "\n",
        "# 2) loss and optimizer\n",
        "\n",
        "learning_rate = 0.01\n",
        "criterion = nn.BCELoss()\n",
        "optimizer = torch.optim.SGD(model.parameters(), lr = learning_rate )\n",
        "\n",
        "# 3) training loop\n",
        "num_epochs = 1000\n",
        "\n",
        "for epoch in range(num_epochs):\n",
        "    #forward pass and loss\n",
        "    y_predicted = model(X_train)\n",
        "    loss = criterion(y_predicted,y_train)\n",
        "\n",
        "    #backward pass\n",
        "    loss.backward()\n",
        "    \n",
        "    #updates\n",
        "    optimizer.step()\n",
        "\n",
        "    # zero gradient\n",
        "    optimizer.zero_grad()\n",
        "\n",
        "    if (epoch+1) %10 ==0:\n",
        "      print(f'epoch: {epoch+1}, loss= {loss.item():.4f}')\n",
        "\n",
        "with torch.no_grad():\n",
        "  y_predicted = model(X_test)\n",
        "  y_predicted_cls = y_predicted.round() ## this would be part of the computation graph if we don't use with statement\n",
        "\n",
        "  acc = y_predicted_cls.eq(y_test).sum() / float(y_test.shape[0])\n",
        "  print(f'accuracy= {acc:.4f}')\n",
        "\n",
        "\n"
      ],
      "metadata": {
        "colab": {
          "base_uri": "https://localhost:8080/"
        },
        "id": "LSYmicKoVPHp",
        "outputId": "8a96373d-d604-4ff9-a10f-c2180c5d32cb"
      },
      "execution_count": 3,
      "outputs": [
        {
          "output_type": "stream",
          "name": "stdout",
          "text": [
            "569 30\n",
            "epoch: 10, loss= 0.5188\n",
            "epoch: 20, loss= 0.4349\n",
            "epoch: 30, loss= 0.3808\n",
            "epoch: 40, loss= 0.3429\n",
            "epoch: 50, loss= 0.3146\n",
            "epoch: 60, loss= 0.2926\n",
            "epoch: 70, loss= 0.2747\n",
            "epoch: 80, loss= 0.2598\n",
            "epoch: 90, loss= 0.2472\n",
            "epoch: 100, loss= 0.2364\n",
            "epoch: 110, loss= 0.2269\n",
            "epoch: 120, loss= 0.2185\n",
            "epoch: 130, loss= 0.2110\n",
            "epoch: 140, loss= 0.2042\n",
            "epoch: 150, loss= 0.1981\n",
            "epoch: 160, loss= 0.1926\n",
            "epoch: 170, loss= 0.1875\n",
            "epoch: 180, loss= 0.1828\n",
            "epoch: 190, loss= 0.1784\n",
            "epoch: 200, loss= 0.1744\n",
            "epoch: 210, loss= 0.1706\n",
            "epoch: 220, loss= 0.1671\n",
            "epoch: 230, loss= 0.1638\n",
            "epoch: 240, loss= 0.1608\n",
            "epoch: 250, loss= 0.1579\n",
            "epoch: 260, loss= 0.1551\n",
            "epoch: 270, loss= 0.1525\n",
            "epoch: 280, loss= 0.1501\n",
            "epoch: 290, loss= 0.1477\n",
            "epoch: 300, loss= 0.1455\n",
            "epoch: 310, loss= 0.1434\n",
            "epoch: 320, loss= 0.1414\n",
            "epoch: 330, loss= 0.1395\n",
            "epoch: 340, loss= 0.1377\n",
            "epoch: 350, loss= 0.1359\n",
            "epoch: 360, loss= 0.1343\n",
            "epoch: 370, loss= 0.1326\n",
            "epoch: 380, loss= 0.1311\n",
            "epoch: 390, loss= 0.1296\n",
            "epoch: 400, loss= 0.1282\n",
            "epoch: 410, loss= 0.1268\n",
            "epoch: 420, loss= 0.1255\n",
            "epoch: 430, loss= 0.1242\n",
            "epoch: 440, loss= 0.1230\n",
            "epoch: 450, loss= 0.1218\n",
            "epoch: 460, loss= 0.1207\n",
            "epoch: 470, loss= 0.1196\n",
            "epoch: 480, loss= 0.1185\n",
            "epoch: 490, loss= 0.1175\n",
            "epoch: 500, loss= 0.1165\n",
            "epoch: 510, loss= 0.1155\n",
            "epoch: 520, loss= 0.1145\n",
            "epoch: 530, loss= 0.1136\n",
            "epoch: 540, loss= 0.1127\n",
            "epoch: 550, loss= 0.1119\n",
            "epoch: 560, loss= 0.1110\n",
            "epoch: 570, loss= 0.1102\n",
            "epoch: 580, loss= 0.1094\n",
            "epoch: 590, loss= 0.1086\n",
            "epoch: 600, loss= 0.1079\n",
            "epoch: 610, loss= 0.1071\n",
            "epoch: 620, loss= 0.1064\n",
            "epoch: 630, loss= 0.1057\n",
            "epoch: 640, loss= 0.1050\n",
            "epoch: 650, loss= 0.1044\n",
            "epoch: 660, loss= 0.1037\n",
            "epoch: 670, loss= 0.1031\n",
            "epoch: 680, loss= 0.1025\n",
            "epoch: 690, loss= 0.1019\n",
            "epoch: 700, loss= 0.1013\n",
            "epoch: 710, loss= 0.1007\n",
            "epoch: 720, loss= 0.1001\n",
            "epoch: 730, loss= 0.0996\n",
            "epoch: 740, loss= 0.0990\n",
            "epoch: 750, loss= 0.0985\n",
            "epoch: 760, loss= 0.0980\n",
            "epoch: 770, loss= 0.0975\n",
            "epoch: 780, loss= 0.0970\n",
            "epoch: 790, loss= 0.0965\n",
            "epoch: 800, loss= 0.0960\n",
            "epoch: 810, loss= 0.0956\n",
            "epoch: 820, loss= 0.0951\n",
            "epoch: 830, loss= 0.0946\n",
            "epoch: 840, loss= 0.0942\n",
            "epoch: 850, loss= 0.0938\n",
            "epoch: 860, loss= 0.0933\n",
            "epoch: 870, loss= 0.0929\n",
            "epoch: 880, loss= 0.0925\n",
            "epoch: 890, loss= 0.0921\n",
            "epoch: 900, loss= 0.0917\n",
            "epoch: 910, loss= 0.0913\n",
            "epoch: 920, loss= 0.0909\n",
            "epoch: 930, loss= 0.0906\n",
            "epoch: 940, loss= 0.0902\n",
            "epoch: 950, loss= 0.0898\n",
            "epoch: 960, loss= 0.0895\n",
            "epoch: 970, loss= 0.0891\n",
            "epoch: 980, loss= 0.0888\n",
            "epoch: 990, loss= 0.0884\n",
            "epoch: 1000, loss= 0.0881\n",
            "accuracy= 0.9474\n"
          ]
        }
      ]
    },
    {
      "cell_type": "code",
      "source": [
        "##  Dataset and Dataloader to laod wine.csv\n",
        "\n",
        "\"\"\"\n",
        "\n",
        "epoch = 1 forward and backward pass of all training samples\n",
        "\n",
        "batch_size = number of training samples in one forward and backward pass\n",
        "number of iterations = number of passes, each pass using [batch_size] number of samples\n",
        "e.g. 100 samples , batch_size = 20--> 100/20 = 5 iterations for 1 epoch\n",
        "\"\"\"\n",
        "\n",
        "import torch\n",
        "import torchvision\n",
        "from torch.utils.data import Dataset, DataLoader\n",
        "import numpy as np\n",
        "import math\n",
        "\n",
        "class WineDataset(Dataset):\n",
        "  def __init__(self):\n",
        "    # data loading\n",
        "    xy = xy = np.loadtxt('/content/wine.csv',delimiter=\",\",dtype = np.float32, skiprows =1)\n",
        "    self.x = torch.from_numpy(xy[:, 1:])\n",
        "    self.y = torch.from_numpy(xy[:,[0]]) # n_samples ,1\n",
        "    self.n_samples = xy.shape[0]\n",
        "\n",
        "  def __getitem__(self,index):\n",
        "     # dataset\n",
        "     return self.x[index], self.y[index]\n",
        "\n",
        "  def __len__(self):\n",
        "    return self.n_samples\n",
        "\n",
        "dataset = WineDataset()\n",
        "first_data = dataset[0]\n",
        "features,labels = first_data\n",
        "print(features,labels)\n",
        "\n",
        "dataloader = DataLoader(dataset = dataset,\n",
        "                        batch_size = 4,\n",
        "                        shuffle = True,\n",
        "                        num_workers = 2)\n",
        "\n",
        "dataiterator = iter(dataloader)\n",
        "\n",
        "data = dataiterator.next()\n",
        "features,labels = data\n",
        "print(features,labels)\n",
        "\n",
        "\n",
        "\n"
      ],
      "metadata": {
        "colab": {
          "base_uri": "https://localhost:8080/"
        },
        "id": "FHysajxrXaSn",
        "outputId": "9b21f389-bad1-4cc6-8da5-cdee231b98f8"
      },
      "execution_count": 10,
      "outputs": [
        {
          "output_type": "stream",
          "name": "stdout",
          "text": [
            "tensor([1.4230e+01, 1.7100e+00, 2.4300e+00, 1.5600e+01, 1.2700e+02, 2.8000e+00,\n",
            "        3.0600e+00, 2.8000e-01, 2.2900e+00, 5.6400e+00, 1.0400e+00, 3.9200e+00,\n",
            "        1.0650e+03]) tensor([1.])\n",
            "tensor([[1.4380e+01, 3.5900e+00, 2.2800e+00, 1.6000e+01, 1.0200e+02, 3.2500e+00,\n",
            "         3.1700e+00, 2.7000e-01, 2.1900e+00, 4.9000e+00, 1.0400e+00, 3.4400e+00,\n",
            "         1.0650e+03],\n",
            "        [1.2080e+01, 2.0800e+00, 1.7000e+00, 1.7500e+01, 9.7000e+01, 2.2300e+00,\n",
            "         2.1700e+00, 2.6000e-01, 1.4000e+00, 3.3000e+00, 1.2700e+00, 2.9600e+00,\n",
            "         7.1000e+02],\n",
            "        [1.4130e+01, 4.1000e+00, 2.7400e+00, 2.4500e+01, 9.6000e+01, 2.0500e+00,\n",
            "         7.6000e-01, 5.6000e-01, 1.3500e+00, 9.2000e+00, 6.1000e-01, 1.6000e+00,\n",
            "         5.6000e+02],\n",
            "        [1.3510e+01, 1.8000e+00, 2.6500e+00, 1.9000e+01, 1.1000e+02, 2.3500e+00,\n",
            "         2.5300e+00, 2.9000e-01, 1.5400e+00, 4.2000e+00, 1.1000e+00, 2.8700e+00,\n",
            "         1.0950e+03]]) tensor([[1.],\n",
            "        [2.],\n",
            "        [3.],\n",
            "        [1.]])\n"
          ]
        }
      ]
    },
    {
      "cell_type": "code",
      "source": [
        "## training loop\n",
        "## lets specify some hyperparameters\n",
        "\n",
        "num_epochs = 2\n",
        "total_samples = len(dataset)\n",
        "n_iterations = math.ceil(total_samples/4)\n",
        "print(total_samples,n_iterations)\n",
        "\n",
        "for epoch in range(num_epochs):\n",
        "  for i,(inputs,labels) in enumerate(dataloader):\n",
        "    # forward backward, update\n",
        "    if (i+1)%5 ==0:\n",
        "      print(f'epoch {epoch+1}/{num_epochs},step {i+1}/{n_iterations},inputs {inputs.shape}')"
      ],
      "metadata": {
        "colab": {
          "base_uri": "https://localhost:8080/"
        },
        "id": "CMsSqMBWlF19",
        "outputId": "1b55e42c-8c71-412c-886f-397ab90c8d54"
      },
      "execution_count": 11,
      "outputs": [
        {
          "output_type": "stream",
          "name": "stdout",
          "text": [
            "178 45\n",
            "epoch 1/2,step 5/45,inputs torch.Size([4, 13])\n",
            "epoch 1/2,step 10/45,inputs torch.Size([4, 13])\n",
            "epoch 1/2,step 15/45,inputs torch.Size([4, 13])\n",
            "epoch 1/2,step 20/45,inputs torch.Size([4, 13])\n",
            "epoch 1/2,step 25/45,inputs torch.Size([4, 13])\n",
            "epoch 1/2,step 30/45,inputs torch.Size([4, 13])\n",
            "epoch 1/2,step 35/45,inputs torch.Size([4, 13])\n",
            "epoch 1/2,step 40/45,inputs torch.Size([4, 13])\n",
            "epoch 1/2,step 45/45,inputs torch.Size([2, 13])\n",
            "epoch 2/2,step 5/45,inputs torch.Size([4, 13])\n",
            "epoch 2/2,step 10/45,inputs torch.Size([4, 13])\n",
            "epoch 2/2,step 15/45,inputs torch.Size([4, 13])\n",
            "epoch 2/2,step 20/45,inputs torch.Size([4, 13])\n",
            "epoch 2/2,step 25/45,inputs torch.Size([4, 13])\n",
            "epoch 2/2,step 30/45,inputs torch.Size([4, 13])\n",
            "epoch 2/2,step 35/45,inputs torch.Size([4, 13])\n",
            "epoch 2/2,step 40/45,inputs torch.Size([4, 13])\n",
            "epoch 2/2,step 45/45,inputs torch.Size([2, 13])\n"
          ]
        }
      ]
    },
    {
      "cell_type": "code",
      "source": [
        "## Dataset Transform\n",
        "\n",
        "import torch\n",
        "import torchvision\n",
        "from torch.utils.data import Dataset, DataLoader\n",
        "import numpy as np\n",
        "import math\n",
        "\n",
        "class WineDataset(Dataset):\n",
        "  def __init__(self,transform= None):\n",
        "    # data loading\n",
        "    xy = np.loadtxt('/content/wine.csv',delimiter=\",\",dtype = np.float32, skiprows =1)\n",
        "\n",
        "    self.x = xy[:, 1:]\n",
        "    self.y = xy[:,[0]] # n_samples ,1\n",
        "    self.n_samples = xy.shape[0]\n",
        "\n",
        "    self.transform = transform\n",
        "\n",
        "\n",
        "  def __getitem__(self,index):\n",
        "     # dataset\n",
        "     sample = self.x[index], self.y[index]\n",
        "     if self.transform:\n",
        "       sample = self.transform(sample)\n",
        "\n",
        "     return sample\n",
        "    \n",
        "  def __len__(self):\n",
        "    return self.n_samples\n",
        "\n",
        "class ToTensor:\n",
        "  def __call__(self,sample):\n",
        "    inputs, targets = sample\n",
        "    return torch.from_numpy(inputs), torch.from_numpy(targets)\n",
        "\n",
        "class MulTransform:\n",
        "  def __init__(self,factor):\n",
        "    self.factor = factor\n",
        "\n",
        "  def __call__(self,sample):\n",
        "    inputs,target = sample\n",
        "    inputs*= self.factor\n",
        "    return inputs,target\n",
        "\n",
        "\n",
        "dataset = WineDataset(transform = ToTensor())\n",
        "# dataset = WineDataset(transform = None)\n",
        "first_data = dataset[0]\n",
        "features,labels = first_data\n",
        "print(features)\n",
        "print(type(features),type(labels))\n",
        "\n",
        "\n",
        "composed = torchvision.transforms.Compose([ToTensor(),MulTransform(2)])\n",
        "dataset = WineDataset(transform = composed)\n",
        "first_data = dataset[0]\n",
        "features,labels = first_data\n",
        "print(features)\n",
        "print(type(features),type(labels))\n"
      ],
      "metadata": {
        "colab": {
          "base_uri": "https://localhost:8080/"
        },
        "id": "4a74BclbmpP6",
        "outputId": "0a96f42d-9a33-444c-deda-81d704d501f7"
      },
      "execution_count": 16,
      "outputs": [
        {
          "output_type": "stream",
          "name": "stdout",
          "text": [
            "tensor([1.4230e+01, 1.7100e+00, 2.4300e+00, 1.5600e+01, 1.2700e+02, 2.8000e+00,\n",
            "        3.0600e+00, 2.8000e-01, 2.2900e+00, 5.6400e+00, 1.0400e+00, 3.9200e+00,\n",
            "        1.0650e+03])\n",
            "<class 'torch.Tensor'> <class 'torch.Tensor'>\n",
            "tensor([2.8460e+01, 3.4200e+00, 4.8600e+00, 3.1200e+01, 2.5400e+02, 5.6000e+00,\n",
            "        6.1200e+00, 5.6000e-01, 4.5800e+00, 1.1280e+01, 2.0800e+00, 7.8400e+00,\n",
            "        2.1300e+03])\n",
            "<class 'torch.Tensor'> <class 'torch.Tensor'>\n"
          ]
        }
      ]
    },
    {
      "cell_type": "code",
      "source": [
        "## Softmax and Cross Entropy \n",
        "import torch\n",
        "import torch.nn as nn\n",
        "import numpy as np\n",
        "\n",
        "def softmax(x):\n",
        "  return np.exp(x) / np.sum(np.exp(x),axis=0)\n",
        "\n",
        "x= np.array([2.0,1.0,0.1])\n",
        "outputs = softmax(x)\n",
        "print('softmax numpy:',outputs)\n",
        "\n",
        "x = torch.tensor([2.0,1.0,0.1])\n",
        "outputs = torch.softmax(x,dim=0)\n",
        "print(outputs)\n",
        "\n"
      ],
      "metadata": {
        "colab": {
          "base_uri": "https://localhost:8080/"
        },
        "id": "1Isu0jpfoy0R",
        "outputId": "00b78476-e95b-43a6-c076-9b0696c28bd8"
      },
      "execution_count": 18,
      "outputs": [
        {
          "output_type": "stream",
          "name": "stdout",
          "text": [
            "softmax numpy: [0.65900114 0.24243297 0.09856589]\n",
            "tensor([0.6590, 0.2424, 0.0986])\n"
          ]
        }
      ]
    },
    {
      "cell_type": "code",
      "source": [
        "import torch\n",
        "import torch.nn as nn\n",
        "import numpy as np\n",
        "\n",
        "def cross_entropy(actual,predicted):\n",
        "  loss = np.sum(actual * np.log(predicted))\n",
        "\n",
        "  return loss\n",
        "Y= np.array([1,0,0])\n",
        "\n",
        "# y_pred has probabilities\n",
        "Y_pred_good = np.array([0.7,0.2,0.1])\n",
        "Y_pred_bad = np.array([0.1,0.3,0.6])\n",
        "\n",
        "l1 = cross_entropy(Y,Y_pred_good)\n",
        "l2 = cross_entropy(Y,Y_pred_bad)\n",
        "\n",
        "print(f'Loss1 numpy: {l1:.4f}')\n",
        "print(f'Loss2 numpy: {l2:.4f}')\n"
      ],
      "metadata": {
        "colab": {
          "base_uri": "https://localhost:8080/"
        },
        "id": "jFpscOiwrz9B",
        "outputId": "618f48a2-c09e-4173-be58-7c01e878a94b"
      },
      "execution_count": 20,
      "outputs": [
        {
          "output_type": "stream",
          "name": "stdout",
          "text": [
            "Loss1 numpy: -0.3567\n",
            "Loss2 numpy: -2.3026\n"
          ]
        }
      ]
    },
    {
      "cell_type": "code",
      "source": [
        "import torch\n",
        "import torch.nn as nn\n",
        "import numpy as np\n",
        "\n",
        "## Carefull\n",
        "## nn.crossEntropyLoss applies\n",
        "\n",
        "## nn.LogSoftmax + nn.NLLLoss (negative log likelihood loss)\n",
        "# -> No softmax for last\n",
        "## y havs calss labels, not onehot\n",
        "# Ypred has raw scores, not softmax\n",
        "\n",
        "loss = nn.CrossEntropyLoss()\n",
        "\n",
        "# 1 samples\n",
        "Y = torch.tensor([0])\n",
        "\n",
        "#nsamples * nclasses =1*3\n",
        "Y_pred_good = torch.tensor([[2.0,1.0,0.1]]) ## these are raw applies didn;t applies softmax\n",
        "Y_pred_bad = torch.tensor([[0.5,2.0,0.3]])\n",
        "\n",
        "l1 = loss(Y_pred_good,Y)\n",
        "l2 = loss(Y_pred_bad,Y)\n",
        "\n",
        "print(l1.item()) ## it has lower cross entrpiy loss\n",
        "print(l2.item())\n",
        "\n",
        "_,predictions1 = torch.max(Y_pred_good,1)\n",
        "_,predictions2 = torch.max(Y_pred_bad,1)\n",
        "\n",
        "print(predictions1)\n",
        "print(predictions2)"
      ],
      "metadata": {
        "colab": {
          "base_uri": "https://localhost:8080/"
        },
        "id": "kyz396jAs9u6",
        "outputId": "9b931e8b-8025-44c2-d050-b6adae5d1d78"
      },
      "execution_count": 23,
      "outputs": [
        {
          "output_type": "stream",
          "name": "stdout",
          "text": [
            "0.4170299470424652\n",
            "1.840616226196289\n",
            "tensor([0])\n",
            "tensor([1])\n"
          ]
        }
      ]
    },
    {
      "cell_type": "code",
      "source": [
        "import torch\n",
        "import torch.nn as nn\n",
        "import numpy as np\n",
        "\n",
        "## Carefull\n",
        "## nn.crossEntropyLoss applies\n",
        "\n",
        "## nn.LogSoftmax + nn.NLLLoss (negative log likelihood loss)\n",
        "# -> No softmax for last\n",
        "## y havs calss labels, not onehot\n",
        "# Ypred has raw scores, not softmax\n",
        "\n",
        "loss = nn.CrossEntropyLoss()\n",
        "\n",
        "# 3 samples\n",
        "Y = torch.tensor([2,0,1])\n",
        "\n",
        "#nsamples * nclasses =1*3\n",
        "Y_pred_good = torch.tensor([[0.1,1.0,2.1],\n",
        "                            [2.0,1.0,0.1],\n",
        "                            [0.1,3.0,0.1]]) ## these are raw applies didn;t applies softmax\n",
        "\n",
        "Y_pred_bad = torch.tensor([[2.1,1.0,0.1],\n",
        "                           [0.1,1.0,2.1],\n",
        "                           [0.1,3.0,0.1]])\n",
        "\n",
        "l1 = loss(Y_pred_good,Y)\n",
        "l2 = loss(Y_pred_bad,Y)\n",
        "\n",
        "print(l1.item()) ## it has lower cross entrpiy loss\n",
        "print(l2.item())\n",
        "\n",
        "_,predictions1 = torch.max(Y_pred_good,1)\n",
        "_,predictions2 = torch.max(Y_pred_bad,1)\n",
        "\n",
        "print(predictions1)\n",
        "print(predictions2)\n",
        "\n",
        "## in Pytorch: Use nn.CrossEntropyLoss()\n",
        "# No Softmax at the end!\n"
      ],
      "metadata": {
        "colab": {
          "base_uri": "https://localhost:8080/"
        },
        "id": "t8UE18f1t9mi",
        "outputId": "5f3f9b35-8e08-4909-ebfc-5bb3b957e1f2"
      },
      "execution_count": 24,
      "outputs": [
        {
          "output_type": "stream",
          "name": "stdout",
          "text": [
            "0.3018244206905365\n",
            "1.6241613626480103\n",
            "tensor([2, 0, 1])\n",
            "tensor([0, 2, 1])\n"
          ]
        }
      ]
    },
    {
      "cell_type": "code",
      "source": [
        "import torch\n",
        "import torch.nn as nn\n",
        "import numpy as np\n",
        "\n",
        "## Multicalssproblem\n",
        "\n",
        "class NeuralNet2(nn.Module):\n",
        "  def __init__(self,input_size, hidden_size,num_classes):\n",
        "    super(NeuralNet2,self).__init__()\n",
        "    self.linear1 = nn.Linear(input_size,\n",
        "                             hidden_size)\n",
        "    self.relu = nn.ReLU()\n",
        "    self.linear2 = nn.Linear(hidden_size, num_classes)\n",
        "\n",
        "  def forward(self,x):\n",
        "    out = self.linear1(x)\n",
        "    out = self.relu(out)\n",
        "    out = self.linear2(out)\n",
        "    return out\n",
        "\n",
        "model = NeuralNet2(input_size = 28*28 , \n",
        "                   hidden_size = 5,\n",
        "                   num_classes = 3)\n",
        "criterion = nn.CrossEntropyLoss() ### it applies Softmax\n",
        "\n",
        "## inpytorch: use nn.BCELoss()\n",
        "# Sigmoid at the end\n"
      ],
      "metadata": {
        "id": "ALcNDu7eu6wO"
      },
      "execution_count": 25,
      "outputs": []
    },
    {
      "cell_type": "code",
      "source": [
        "import torch\n",
        "import torch.nn as nn\n",
        "import numpy as np\n",
        "\n",
        "## Binary classificaiton\n",
        "class NeuralNet2(nn.Module):\n",
        "  def __init__(self,input_size, hidden_size,num_classes):\n",
        "    super(NeuralNet2,self).__init__()\n",
        "    self.linear1 = nn.Linear(input_size,\n",
        "                             hidden_size)\n",
        "    self.relu = nn.ReLU()\n",
        "    self.linear2 = nn.Linear(hidden_size, 1)\n",
        "\n",
        "  def forward(self,x):\n",
        "    out = self.linear1(x)\n",
        "    out = self.relu(out)\n",
        "    out = self.linear2(out)\n",
        "\n",
        "    # Sigmoid at the end\n",
        "    y_pred = torch.sigmoid(out)\n",
        "    return out\n",
        "\n",
        "model = NeuralNet2(input_size = 28*28 , \n",
        "                   hidden_size = 5,\n",
        "                   num_classes = 3)\n",
        "criterion = nn.BCELoss() ### it applies Softmax\n",
        "\n",
        "## inpytorch: use nn.BCELoss()\n",
        "# Sigmoid at the end\n"
      ],
      "metadata": {
        "id": "p3MuzX9lwkXd"
      },
      "execution_count": 27,
      "outputs": []
    },
    {
      "cell_type": "code",
      "source": [
        ""
      ],
      "metadata": {
        "id": "lN21UG-cw5dE"
      },
      "execution_count": null,
      "outputs": []
    }
  ]
}